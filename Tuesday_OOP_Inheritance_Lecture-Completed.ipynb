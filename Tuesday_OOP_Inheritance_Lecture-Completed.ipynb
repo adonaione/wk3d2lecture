{
 "cells": [
  {
   "cell_type": "markdown",
   "metadata": {},
   "source": [
    "# Object-Oriented-Programming (OOP)"
   ]
  },
  {
   "cell_type": "markdown",
   "metadata": {},
   "source": [
    "## Tasks Today:\n",
    "\n",
    "   \n",
    "1) <b>Dunder Methods</b> <br>\n",
    " &nbsp;&nbsp;&nbsp;&nbsp; a) The \\__str\\__() Method <br>\n",
    " &nbsp;&nbsp;&nbsp;&nbsp; b) The \\__repr\\__() Method <br>\n",
    " &nbsp;&nbsp;&nbsp;&nbsp; c) Other Magic Methods <br>\n",
    " &nbsp;&nbsp;&nbsp;&nbsp; d) In-Class Exercise #1 - Create a class Animal that displays the species and animal name when printed <br>  \n",
    "2) <b>Inheritance</b> <br>\n",
    " &nbsp;&nbsp;&nbsp;&nbsp; a) Syntax for Inheriting from a Parent Class <br>\n",
    " &nbsp;&nbsp;&nbsp;&nbsp; b) The \\__init\\__() Method for a Child Class (super()) <br>\n",
    " &nbsp;&nbsp;&nbsp;&nbsp; c) Defining Attributes and Methods for the Child Class <br>\n",
    " &nbsp;&nbsp;&nbsp;&nbsp; d) Method Overriding <br>\n",
    " &nbsp;&nbsp;&nbsp;&nbsp; e) In-Class Exercise #2 - Create a class 'Ford' that inherits from 'Car' class and initialize it as a Blue Ford Explorer with 4 wheels using the super() method <br>\n",
    "3) <b>Modules</b> <br>\n",
    " &nbsp;&nbsp;&nbsp;&nbsp; a) Importing Modules<br>\n",
    " &nbsp;&nbsp;&nbsp;&nbsp; b) Importing from modules <br>\n",
    " &nbsp;&nbsp;&nbsp;&nbsp; c) Aliasing <br>\n",
    " &nbsp;&nbsp;&nbsp;&nbsp; d) Creating Modules <br>\n"
   ]
  },
  {
   "cell_type": "markdown",
   "metadata": {},
   "source": [
    "### Warm Up"
   ]
  },
  {
   "cell_type": "markdown",
   "metadata": {},
   "source": [
    "Create a class for a Book that has instance attributes for `title`, `author`, `num_of_pages`, and `price`. Each book instance should also have a `current_page` attribute that starts at 0. Add a method called `read` that takes in number of pages. The method should update the what the current page is. If the `current_page` goes over the `num_of_pages`, print that the book is finished and reset the `current_page` to 0"
   ]
  },
  {
   "cell_type": "code",
   "execution_count": 2,
   "metadata": {},
   "outputs": [],
   "source": [
    "class Book():\n",
    "    \n",
    "    def __init__(self, title, author, num_of_pages, price):\n",
    "        self.title = title\n",
    "        self.author = author\n",
    "        self.num_of_pages = num_of_pages\n",
    "        self.price = price \n",
    "        self.current_page = 0\n",
    "        \n",
    "    \n",
    "    def read(self, pages_read):\n",
    "        # update the current page (+= or -=)\n",
    "        self.current_page = self.current_page + pages_read\n",
    "        page_diff = self.num_of_pages - self.current_page\n",
    "        print(f'You are currently on page {self.current_page}. There are {page_diff} pages left. ')"
   ]
  },
  {
   "cell_type": "code",
   "execution_count": 3,
   "metadata": {},
   "outputs": [
    {
     "name": "stdout",
     "output_type": "stream",
     "text": [
      "You are currently on page 45. There are 243 pages left. \n",
      "You are currently on page 104. There are 184 pages left. \n",
      "You are currently on page 146. There are 142 pages left. \n",
      "You are currently on page 230. There are 58 pages left. \n",
      "You are currently on page 292. There are -4 pages left. \n"
     ]
    }
   ],
   "source": [
    "book = Book(\"The Midnight Library\", \"Matt Haig\", 288, 26.00)\n",
    "book.read(45)\n",
    "book.read(59)\n",
    "book.read(42)\n",
    "book.read(84)\n",
    "book.read(62)"
   ]
  },
  {
   "cell_type": "code",
   "execution_count": null,
   "metadata": {},
   "outputs": [],
   "source": [
    "# book3 = Book()"
   ]
  },
  {
   "cell_type": "markdown",
   "metadata": {},
   "source": [
    "## Dunder Methods"
   ]
  },
  {
   "cell_type": "markdown",
   "metadata": {},
   "source": [
    "#### \\__str\\__()"
   ]
  },
  {
   "cell_type": "code",
   "execution_count": 4,
   "metadata": {},
   "outputs": [
    {
     "data": {
      "text/plain": [
       "44"
      ]
     },
     "execution_count": 4,
     "metadata": {},
     "output_type": "execute_result"
    }
   ],
   "source": [
    "number = 44\n",
    "number"
   ]
  },
  {
   "cell_type": "code",
   "execution_count": 5,
   "metadata": {},
   "outputs": [
    {
     "data": {
      "text/plain": [
       "'44'"
      ]
     },
     "execution_count": 5,
     "metadata": {},
     "output_type": "execute_result"
    }
   ],
   "source": [
    "str(number)"
   ]
  },
  {
   "cell_type": "code",
   "execution_count": 6,
   "metadata": {},
   "outputs": [
    {
     "data": {
      "text/plain": [
       "'44'"
      ]
     },
     "execution_count": 6,
     "metadata": {},
     "output_type": "execute_result"
    }
   ],
   "source": [
    "int.__str__(number)"
   ]
  },
  {
   "cell_type": "code",
   "execution_count": 7,
   "metadata": {},
   "outputs": [
    {
     "name": "stdout",
     "output_type": "stream",
     "text": [
      "I am 44 years old.\n"
     ]
    }
   ],
   "source": [
    "print(f'I am {number} years old.')"
   ]
  },
  {
   "cell_type": "code",
   "execution_count": 10,
   "metadata": {},
   "outputs": [
    {
     "name": "stdout",
     "output_type": "stream",
     "text": [
      "Red Toyota Camry\n",
      "Green Ford Focus\n",
      "Red Toyota Camry drove 123 miles\n",
      "Green Ford Focus drove 46 miles\n"
     ]
    },
    {
     "data": {
      "text/plain": [
       "'Red Toyota Camry'"
      ]
     },
     "execution_count": 10,
     "metadata": {},
     "output_type": "execute_result"
    }
   ],
   "source": [
    "class Car:\n",
    "    def __init__(self, color, make, model):\n",
    "        self.color = color\n",
    "        self.make = make\n",
    "        self.model = model\n",
    "        \n",
    "    def __str__(self):\n",
    "        return f'{self.color} {self.make} {self.model}'.title()\n",
    "    \n",
    "    def drive(self,num_miles):\n",
    "        print(f'{self} drove {num_miles} miles')\n",
    "    \n",
    "car1 = Car('red', 'Toyota', 'Camry')\n",
    "car2 = Car('green', 'Ford', 'Focus')\n",
    "\n",
    "print(car1)\n",
    "print(car2)\n",
    "\n",
    "car1.drive(123)\n",
    "car2.drive(46)\n",
    "\n",
    "car1\n",
    "str(car1)"
   ]
  },
  {
   "cell_type": "markdown",
   "metadata": {},
   "source": [
    "#### \\__repr\\__()"
   ]
  },
  {
   "cell_type": "code",
   "execution_count": 12,
   "metadata": {
    "scrolled": true
   },
   "outputs": [
    {
     "name": "stdout",
     "output_type": "stream",
     "text": [
      "red Toyota Camry drove 123 miles\n",
      "green Ford Focus drove 46 miles\n",
      "red Toyota Camry\n",
      "green Ford Focus\n"
     ]
    }
   ],
   "source": [
    "class Car:\n",
    "    def __init__(self, color, make, model):\n",
    "        self.color = color\n",
    "        self.make = make\n",
    "        self.model = model\n",
    "        \n",
    "    # Method that will return end-user friendly readable info\n",
    "    def __str__(self):\n",
    "        return f'{self.color} {self.make} {self.model}'\n",
    "    \n",
    "    # Method that will return the machine readable (developer-friendly) info\n",
    "    def __repr__(self):\n",
    "        return f'<Car | {self.make} {self.model}>'\n",
    "    \n",
    "    def drive(self,num_miles):\n",
    "        print(f'{self} drove {num_miles} miles')\n",
    "    \n",
    "    \n",
    "car1 = Car('red', 'Toyota', 'Camry')\n",
    "car2 = Car('green', 'Ford', 'Focus')\n",
    "\n",
    "car1.drive(123)\n",
    "car2.drive(46)\n",
    "\n",
    "print(car1)\n",
    "print(car2)"
   ]
  },
  {
   "cell_type": "code",
   "execution_count": 13,
   "metadata": {},
   "outputs": [
    {
     "data": {
      "text/plain": [
       "<Car | Toyota Camry>"
      ]
     },
     "execution_count": 13,
     "metadata": {},
     "output_type": "execute_result"
    }
   ],
   "source": [
    "car1"
   ]
  },
  {
   "cell_type": "code",
   "execution_count": 14,
   "metadata": {},
   "outputs": [
    {
     "data": {
      "text/plain": [
       "<Car | Ford Focus>"
      ]
     },
     "execution_count": 14,
     "metadata": {},
     "output_type": "execute_result"
    }
   ],
   "source": [
    "car2"
   ]
  },
  {
   "cell_type": "code",
   "execution_count": 15,
   "metadata": {},
   "outputs": [
    {
     "name": "stdout",
     "output_type": "stream",
     "text": [
      "[<Car | Toyota Camry>, <Car | Ford Focus>]\n",
      "red Toyota Camry\n",
      "green Ford Focus\n"
     ]
    }
   ],
   "source": [
    "garage = [car1, car2]\n",
    "\n",
    "print(garage)\n",
    "\n",
    "for car in garage:\n",
    "    print(car)"
   ]
  },
  {
   "cell_type": "code",
   "execution_count": 20,
   "metadata": {},
   "outputs": [],
   "source": [
    "class BlogPost:\n",
    "    id_counter = 1\n",
    "    \n",
    "    def __init__(self, title, body, author):\n",
    "        self.title = title.title()\n",
    "        self.body = body\n",
    "        self.author = author\n",
    "        self.id_counter += 1\n",
    "\n",
    "    #String Method - End-user Friendly\n",
    "    def __str__(self):\n",
    "        return f\"\"\"\n",
    "        {self.title}\n",
    "        By: {self.author}\n",
    "        {self.body}\n",
    "        \"\"\"\n",
    "    \n",
    "    #Repr Method - Developer Friendly\n",
    "    def __repr__(self):\n",
    "        return f'<BlogPost {self.id_counter}|{self.title}>'\n",
    "    "
   ]
  },
  {
   "cell_type": "code",
   "execution_count": 21,
   "metadata": {},
   "outputs": [],
   "source": [
    "post1 = BlogPost('First Post', 'This is the very first post. I hope you like it', 'adonai')\n",
    "post2 = BlogPost('Tuesday', 'This is the second post', 'adonai')\n",
    "post3 = BlogPost('OOP', 'This is the third post bro', 'adonai')"
   ]
  },
  {
   "cell_type": "code",
   "execution_count": 22,
   "metadata": {},
   "outputs": [
    {
     "name": "stdout",
     "output_type": "stream",
     "text": [
      "[<BlogPost 2|First Post>, <BlogPost 2|Tuesday>, <BlogPost 2|Oop>]\n"
     ]
    }
   ],
   "source": [
    "blog = [post1, post2, post3]\n",
    "\n",
    "print(blog)"
   ]
  },
  {
   "cell_type": "code",
   "execution_count": 23,
   "metadata": {},
   "outputs": [
    {
     "name": "stdout",
     "output_type": "stream",
     "text": [
      "\n",
      "        First Post\n",
      "        By: adonai\n",
      "        This is the very first post. I hope you like it\n",
      "        \n",
      "\n",
      "        Tuesday\n",
      "        By: adonai\n",
      "        This is the second post\n",
      "        \n",
      "\n",
      "        Oop\n",
      "        By: adonai\n",
      "        This is the third post bro\n",
      "        \n"
     ]
    }
   ],
   "source": [
    "for post in blog: \n",
    "    print(post)"
   ]
  },
  {
   "cell_type": "markdown",
   "metadata": {},
   "source": [
    "#### \\__lt\\__(), \\__lte\\__(), \\__eq\\__(), etc"
   ]
  },
  {
   "cell_type": "code",
   "execution_count": 24,
   "metadata": {},
   "outputs": [
    {
     "name": "stdout",
     "output_type": "stream",
     "text": [
      "Cup: $5.00 x 10\n",
      "Lamp: $50.00 x 1\n"
     ]
    }
   ],
   "source": [
    "class Item:\n",
    "    def __init__(self, name, price, quantity):\n",
    "        self.name = name\n",
    "        self.price = price\n",
    "        self.quantity = quantity\n",
    "        \n",
    "    def __str__(self):\n",
    "        return f\"{self.name}: ${self.price:.2f} x {self.quantity}\"\n",
    "    \n",
    "    def __repr__(self):\n",
    "        return f\"<Item|{self.name}>\"\n",
    "    \n",
    "    # Method that will be called when the < operator is used\n",
    "    def __lt__(self, other_item):\n",
    "        return self.price * self.quantity < other_item.price * other_item.quantity\n",
    "    \n",
    "    # Method that wi be called \n",
    "    \n",
    "#     def __le__(self, other_item):\n",
    "#         return self.price * self.quantity == other_item.price * other_item.quantity\n",
    "    \n",
    "    def __add__(self, value_to_add):\n",
    "        self.quantity += value_to_add\n",
    "        return self\n",
    "    \n",
    "    def __sub__(self, value_to_add):\n",
    "        self.quantity -= value_to_add\n",
    "        return self\n",
    "    \n",
    "item1 = Item('Cup', 5, 10)\n",
    "print(item1)\n",
    "item2 = Item('Lamp', 50.00, 1)\n",
    "print(item2)"
   ]
  },
  {
   "cell_type": "code",
   "execution_count": 8,
   "metadata": {},
   "outputs": [
    {
     "data": {
      "text/plain": [
       "False"
      ]
     },
     "execution_count": 8,
     "metadata": {},
     "output_type": "execute_result"
    }
   ],
   "source": [
    "item1 > item2"
   ]
  },
  {
   "cell_type": "code",
   "execution_count": 9,
   "metadata": {},
   "outputs": [
    {
     "data": {
      "text/plain": [
       "<Item|Cup>"
      ]
     },
     "execution_count": 9,
     "metadata": {},
     "output_type": "execute_result"
    }
   ],
   "source": [
    "item1 + 3"
   ]
  },
  {
   "cell_type": "code",
   "execution_count": 10,
   "metadata": {},
   "outputs": [
    {
     "name": "stdout",
     "output_type": "stream",
     "text": [
      "Cup: $5.00 x 13\n"
     ]
    }
   ],
   "source": [
    "print(item1)"
   ]
  },
  {
   "cell_type": "code",
   "execution_count": 11,
   "metadata": {},
   "outputs": [
    {
     "name": "stdout",
     "output_type": "stream",
     "text": [
      "Cup: $5.00 x 23\n"
     ]
    }
   ],
   "source": [
    "item1 += 10\n",
    "print(item1)"
   ]
  },
  {
   "cell_type": "code",
   "execution_count": 12,
   "metadata": {},
   "outputs": [
    {
     "name": "stdout",
     "output_type": "stream",
     "text": [
      "Cup: $5.00 x 8\n"
     ]
    }
   ],
   "source": [
    "item1 -= 15\n",
    "print(item1)"
   ]
  },
  {
   "cell_type": "code",
   "execution_count": null,
   "metadata": {},
   "outputs": [],
   "source": [
    "class Cart: \n",
    "    def __init__(self, customer_name):\n",
    "        self.customer_name = customer_name\n",
    "        self.items = []\n",
    "\n",
    "    def add(self, item):\n",
    "        self.items.append{item}\n",
    "        print(f'{item} has been added')\n",
    "    \n",
    "    def remove(self, item):\n",
    "        self.items.remove(item)\n",
    "        print(f'{item} has been removed')\n",
    "\n",
    "    def show(self):\n",
    "        for item in self.items:\n",
    "            print(item)\n",
    "\n",
    "    def __contains__(self, product):\n",
    "        for "
   ]
  },
  {
   "cell_type": "markdown",
   "metadata": {},
   "source": [
    "#### In-class Exercise 1"
   ]
  },
  {
   "cell_type": "code",
   "execution_count": 27,
   "metadata": {},
   "outputs": [
    {
     "name": "stdout",
     "output_type": "stream",
     "text": [
      "Leo the lion\n",
      "Buddy the dog\n",
      "[Animal|Lion, Animal|Dog]\n"
     ]
    }
   ],
   "source": [
    "# Create a class Animal that displays the name and species when printed\n",
    "class Animal:\n",
    "    def __init__(self, name, species):\n",
    "        self.name = name.title()\n",
    "        self.species = species\n",
    "\n",
    "    def __str__(self):\n",
    "        return f\"{self.name} the {self.species}\"\n",
    "\n",
    "    def __repr__(self):\n",
    "        return f\"<Animal|{self.species.title()>}\"\n",
    "        \n",
    "\n",
    "\n",
    "leo = Animal('Leo', 'lion')\n",
    "\n",
    "print(leo) # Leo the Lion  ***String method & Repr method\n",
    "\n",
    "\n",
    "buddy = Animal('Buddy', 'dog')\n",
    "print(buddy) # Buddy the Dog\n",
    "\n",
    "animals = [leo, buddy]\n",
    "\n",
    "\n",
    "\n",
    "\n",
    "print(animals) # [<Animal|Lion>, <Animal|Dog>]"
   ]
  },
  {
   "cell_type": "markdown",
   "metadata": {},
   "source": [
    "## Inheritance <br>\n",
    "<p>You can create a child-parent relationship between two classes by using inheritance. What this allows you to do is have overriding methods, but also inherit traits from the parent class. Think of it as an actual parent and child, the child will inherit the parent's genes, as will the classes in OOP</p>"
   ]
  },
  {
   "cell_type": "markdown",
   "metadata": {},
   "source": [
    "##### Syntax for Inheriting from a Parent Class"
   ]
  },
  {
   "cell_type": "code",
   "execution_count": 13,
   "metadata": {},
   "outputs": [
    {
     "name": "stdout",
     "output_type": "stream",
     "text": [
      "This is the Rectangle __init__ method\n",
      "Length: 10 x Width: 15\n",
      "This is the Rectangle area method\n",
      "150\n",
      "50\n",
      "==================================================\n",
      "This is the Rectangle __init__ method\n",
      "Length: 5 x Width: 5\n",
      "This is the Rectangle area method\n",
      "25\n",
      "20\n"
     ]
    }
   ],
   "source": [
    "# Syntax: class Child(Parent):\n",
    "\n",
    "class Rectangle: # Parent Class\n",
    "    sides = 4 # Class Attribute\n",
    "    \n",
    "    def __init__(self, length, width):\n",
    "        print('This is the Rectangle __init__ method')\n",
    "        self.length = length\n",
    "        self.width = width\n",
    "        \n",
    "    def __str__(self):\n",
    "        return f\"Length: {self.length} x Width: {self.width}\"\n",
    "    \n",
    "    def area(self):\n",
    "        print('This is the Rectangle area method')\n",
    "        return self.length * self.width\n",
    "    \n",
    "    def perimeter(self):\n",
    "        return 2*self.length + 2*self.width \n",
    "    \n",
    "class Square(Rectangle):\n",
    "    pass\n",
    "\n",
    "    \n",
    "    \n",
    "my_rectangle = Rectangle(10, 15)\n",
    "print(my_rectangle)\n",
    "print(my_rectangle.area())\n",
    "print(my_rectangle.perimeter())\n",
    "print('='* 50)\n",
    "my_square = Square(5,5)\n",
    "print(my_square)\n",
    "print(my_square.area())\n",
    "print(my_square.perimeter())"
   ]
  },
  {
   "cell_type": "code",
   "execution_count": 14,
   "metadata": {},
   "outputs": [
    {
     "name": "stdout",
     "output_type": "stream",
     "text": [
      "Help on class Square in module __main__:\n",
      "\n",
      "class Square(Rectangle)\n",
      " |  Square(length, width)\n",
      " |  \n",
      " |  Method resolution order:\n",
      " |      Square\n",
      " |      Rectangle\n",
      " |      builtins.object\n",
      " |  \n",
      " |  Methods inherited from Rectangle:\n",
      " |  \n",
      " |  __init__(self, length, width)\n",
      " |      Initialize self.  See help(type(self)) for accurate signature.\n",
      " |  \n",
      " |  __str__(self)\n",
      " |      Return str(self).\n",
      " |  \n",
      " |  area(self)\n",
      " |  \n",
      " |  perimeter(self)\n",
      " |  \n",
      " |  ----------------------------------------------------------------------\n",
      " |  Data descriptors inherited from Rectangle:\n",
      " |  \n",
      " |  __dict__\n",
      " |      dictionary for instance variables (if defined)\n",
      " |  \n",
      " |  __weakref__\n",
      " |      list of weak references to the object (if defined)\n",
      " |  \n",
      " |  ----------------------------------------------------------------------\n",
      " |  Data and other attributes inherited from Rectangle:\n",
      " |  \n",
      " |  sides = 4\n",
      "\n"
     ]
    }
   ],
   "source": [
    "help(Square)"
   ]
  },
  {
   "cell_type": "markdown",
   "metadata": {},
   "source": [
    "##### The \\__init\\__() Method for a Child Class - super()"
   ]
  },
  {
   "cell_type": "code",
   "execution_count": 28,
   "metadata": {
    "scrolled": true
   },
   "outputs": [],
   "source": [
    "class Rectangle:\n",
    "    def __init__(self, length, width):\n",
    "        print('This is the Rectangle __init__ method')\n",
    "        self.length = length\n",
    "        self.width = width\n",
    "\n",
    "    def area(self):\n",
    "        print('This is the Rectangle area method')\n",
    "        return self.length * self.width\n",
    "    \n",
    "    def perimeter(self):\n",
    "        print('This is the Rectangle area method')\n",
    "        return 2*(self.length) + 2*(self.width)\n",
    "    \n",
    "    \n",
    "class Square(Rectangle):\n",
    "    def __init__(self, side):\n",
    "        print('This is the Square __init__ method')\n",
    "        super().__init__(side, side)\n",
    "        self.all_sides_equal = True\n",
    "        \n",
    "\n",
    "class Triangle(Rectangle):\n",
    "    def __init__(self, base, height):\n",
    "        print('This is the Triangle __init__ method')\n",
    "        super().__init__(base, height)\n",
    "        \n",
    "    def area(self):\n",
    "        print('This is the Triangle area method')\n",
    "        area = super().area()\n",
    "        return area / 2\n",
    "        \n"
   ]
  },
  {
   "cell_type": "code",
   "execution_count": 16,
   "metadata": {},
   "outputs": [
    {
     "name": "stdout",
     "output_type": "stream",
     "text": [
      "This is the Square __init__ method\n",
      "This is the Rectangle __init__ method\n"
     ]
    }
   ],
   "source": [
    "my_square = Square(4)"
   ]
  },
  {
   "cell_type": "code",
   "execution_count": 17,
   "metadata": {
    "scrolled": true
   },
   "outputs": [
    {
     "name": "stdout",
     "output_type": "stream",
     "text": [
      "This is the Rectangle area method\n"
     ]
    },
    {
     "data": {
      "text/plain": [
       "16"
      ]
     },
     "execution_count": 17,
     "metadata": {},
     "output_type": "execute_result"
    }
   ],
   "source": [
    "my_square.area()"
   ]
  },
  {
   "cell_type": "code",
   "execution_count": 18,
   "metadata": {},
   "outputs": [
    {
     "name": "stdout",
     "output_type": "stream",
     "text": [
      "This is the Rectangle area method\n"
     ]
    },
    {
     "data": {
      "text/plain": [
       "16"
      ]
     },
     "execution_count": 18,
     "metadata": {},
     "output_type": "execute_result"
    }
   ],
   "source": [
    "my_square.perimeter()"
   ]
  },
  {
   "cell_type": "code",
   "execution_count": 19,
   "metadata": {},
   "outputs": [
    {
     "name": "stdout",
     "output_type": "stream",
     "text": [
      "This is the Triangle __init__ method\n",
      "This is the Rectangle __init__ method\n",
      "This is the Triangle area method\n",
      "This is the Rectangle area method\n"
     ]
    },
    {
     "data": {
      "text/plain": [
       "25.0"
      ]
     },
     "execution_count": 19,
     "metadata": {},
     "output_type": "execute_result"
    }
   ],
   "source": [
    "my_triangle = Triangle(10,5)\n",
    "my_triangle.area()"
   ]
  },
  {
   "cell_type": "markdown",
   "metadata": {},
   "source": [
    "#### In-class Exercise 2"
   ]
  },
  {
   "cell_type": "markdown",
   "metadata": {},
   "source": [
    "Create a Car class that has a drive and fill up method, and then create a Ford class that inherits from the car class."
   ]
  },
  {
   "cell_type": "code",
   "execution_count": 33,
   "metadata": {},
   "outputs": [
    {
     "name": "stdout",
     "output_type": "stream",
     "text": [
      "Ford\n",
      "Blue Ford Focus is filling up\n",
      "Red Toyota Camry is filling up\n",
      "Gray Tesla Model X is charging...\n"
     ]
    }
   ],
   "source": [
    "class Car:\n",
    "    def __init__(self, color, make, model):\n",
    "        self.color = color\n",
    "        self.make = make\n",
    "        self.model = model\n",
    "\n",
    "    def __str__(self):\n",
    "        return f\"{self.color} {self.make} {self.model}\".title()\n",
    "\n",
    "    def fill_up(self):\n",
    "        print(f\"{self} is filling up\")\n",
    "    \n",
    "    def drive(self):\n",
    "        return(f'{self} is driving.')\n",
    "\n",
    "class Ford(Car):\n",
    "    def __init__(self, color, model):\n",
    "        super().__init__(color, \"Ford\", model)\n",
    "\n",
    "class Toyota(Car):\n",
    "    def __init__(self, color, model):\n",
    "        super().__init__(color, \"Toyota\", model)\n",
    "    \n",
    "    \n",
    "class Tesla(Car):\n",
    "    def __init__(self, color, model):\n",
    "        super().__init__(color, \"Tesla\", model)\n",
    "    \n",
    "\n",
    "    def fill_up(self):\n",
    "        print(f\"{self} is charging...\")\n",
    "\n",
    "\n",
    "\n",
    "\n",
    "my_car = Ford('blue', 'Focus')\n",
    "\n",
    "print(my_car.make) # 'Ford'\n",
    "\n",
    "my_car.drive() # 'blue Ford Focus is driving'\n",
    "\n",
    "my_car.fill_up() # 'Filling up blue Ford Focus'\n",
    "\n",
    "my_other_car = Toyota('red', 'Camry')\n",
    "\n",
    "my_other_car.drive()\n",
    "my_other_car.fill_up()\n",
    "\n",
    "my_electric_car = Tesla('gray', 'Model X')\n",
    "my_electric_car.drive()\n",
    "my_electric_car.fill_up()\n"
   ]
  },
  {
   "cell_type": "markdown",
   "metadata": {},
   "source": [
    "## Modules"
   ]
  },
  {
   "cell_type": "markdown",
   "metadata": {},
   "source": [
    "##### Importing Entire Modules"
   ]
  },
  {
   "cell_type": "code",
   "execution_count": 20,
   "metadata": {},
   "outputs": [
    {
     "name": "stdout",
     "output_type": "stream",
     "text": [
      "<module 'math' (built-in)>\n",
      "3.141592653589793\n",
      "120\n"
     ]
    },
    {
     "data": {
      "text/plain": [
       "6"
      ]
     },
     "execution_count": 20,
     "metadata": {},
     "output_type": "execute_result"
    }
   ],
   "source": [
    "# import name_of_module\n",
    "\n",
    "import math\n",
    "\n",
    "print(math)\n",
    "print(math.pi)\n",
    "\n",
    "print(math.factorial(5))\n",
    "math.factorial(3)"
   ]
  },
  {
   "cell_type": "markdown",
   "metadata": {},
   "source": [
    "##### Importing Methods Only"
   ]
  },
  {
   "cell_type": "code",
   "execution_count": 21,
   "metadata": {},
   "outputs": [
    {
     "name": "stdout",
     "output_type": "stream",
     "text": [
      "<function median at 0x0000018A1ED96550>\n",
      "<function mean at 0x0000018A1ED96310>\n",
      "375.5\n",
      "233.5\n"
     ]
    }
   ],
   "source": [
    "# from module_name import class, function, constant, etc.\n",
    "\n",
    "from statistics import mean, median\n",
    "\n",
    "\n",
    "print(median)\n",
    "print(mean)\n",
    "\n",
    "my_list = [13, 6, 234, 1346, 233, 335, 23, 6, 1235, 324]\n",
    "\n",
    "print(mean(my_list))\n",
    "print(median(my_list))"
   ]
  },
  {
   "cell_type": "markdown",
   "metadata": {},
   "source": [
    "##### Using the 'as' Keyword"
   ]
  },
  {
   "cell_type": "code",
   "execution_count": 22,
   "metadata": {},
   "outputs": [
    {
     "data": {
      "text/plain": [
       "75"
      ]
     },
     "execution_count": 22,
     "metadata": {},
     "output_type": "execute_result"
    }
   ],
   "source": [
    "# import module as new_name\n",
    "# from module import function as f\n",
    "\n",
    "from random import randint as ri\n",
    "\n",
    "ri(1, 100)"
   ]
  },
  {
   "cell_type": "code",
   "execution_count": 23,
   "metadata": {},
   "outputs": [
    {
     "name": "stdout",
     "output_type": "stream",
     "text": [
      "<module 'collections' from 'C:\\\\Users\\\\bstan\\\\anaconda3\\\\lib\\\\collections\\\\__init__.py'>\n",
      "Counter({'l': 3, 's': 3, 'd': 3, 'k': 3, 'f': 2, 'j': 2, 'a': 1})\n"
     ]
    }
   ],
   "source": [
    "import collections as c\n",
    "\n",
    "print(c)\n",
    "\n",
    "test = c.Counter('alsdkfdsklfjkldsj')\n",
    "print(test)"
   ]
  },
  {
   "cell_type": "code",
   "execution_count": 24,
   "metadata": {},
   "outputs": [
    {
     "name": "stdout",
     "output_type": "stream",
     "text": [
      "This is the test module\n",
      "<module 'test_module' from 'C:\\\\Users\\\\bstan\\\\Documents\\\\codingtemple-kekambas-111\\\\week3\\\\day2\\\\test_module.py'>\n"
     ]
    }
   ],
   "source": [
    "# Using VS Code\n",
    "import test_module\n",
    "\n",
    "print(test_module)"
   ]
  },
  {
   "cell_type": "code",
   "execution_count": 25,
   "metadata": {},
   "outputs": [
    {
     "name": "stdout",
     "output_type": "stream",
     "text": [
      "Hello Brian. How are you today? I hope you are doing swell!\n"
     ]
    }
   ],
   "source": [
    "test_module.greet('Brian')\n"
   ]
  },
  {
   "cell_type": "code",
   "execution_count": 26,
   "metadata": {},
   "outputs": [
    {
     "name": "stdout",
     "output_type": "stream",
     "text": [
      "Hello Taty. How are you today? I hope you are doing swell!\n"
     ]
    }
   ],
   "source": [
    "from test_module import greet\n",
    "\n",
    "greet('Taty')"
   ]
  },
  {
   "cell_type": "code",
   "execution_count": 27,
   "metadata": {},
   "outputs": [
    {
     "name": "stdout",
     "output_type": "stream",
     "text": [
      "Goodbye Taty. It was a pleasure seeing you.\n"
     ]
    }
   ],
   "source": [
    "from test_module import leave as say_bye\n",
    "\n",
    "\n",
    "say_bye('Taty')"
   ]
  },
  {
   "cell_type": "code",
   "execution_count": null,
   "metadata": {},
   "outputs": [],
   "source": []
  }
 ],
 "metadata": {
  "kernelspec": {
   "display_name": "Python 3 (ipykernel)",
   "language": "python",
   "name": "python3"
  },
  "language_info": {
   "codemirror_mode": {
    "name": "ipython",
    "version": 3
   },
   "file_extension": ".py",
   "mimetype": "text/x-python",
   "name": "python",
   "nbconvert_exporter": "python",
   "pygments_lexer": "ipython3",
   "version": "3.11.7"
  }
 },
 "nbformat": 4,
 "nbformat_minor": 2
}
